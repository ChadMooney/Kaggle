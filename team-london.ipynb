{
 "cells": [
  {
   "cell_type": "code",
   "execution_count": 1,
   "id": "d35763ef",
   "metadata": {
    "execution": {
     "iopub.execute_input": "2023-06-27T21:44:48.828114Z",
     "iopub.status.busy": "2023-06-27T21:44:48.827802Z",
     "iopub.status.idle": "2023-06-27T21:44:50.634879Z",
     "shell.execute_reply": "2023-06-27T21:44:50.633582Z"
    },
    "papermill": {
     "duration": 1.813969,
     "end_time": "2023-06-27T21:44:50.637098",
     "exception": false,
     "start_time": "2023-06-27T21:44:48.823129",
     "status": "completed"
    },
    "tags": []
   },
   "outputs": [],
   "source": [
    "import pandas as pd\n",
    "from sklearn.ensemble import RandomForestClassifier\n",
    "from sklearn.preprocessing import MinMaxScaler\n",
    "from sklearn.model_selection import train_test_split, cross_val_score, GridSearchCV\n",
    "from sklearn.metrics import log_loss, confusion_matrix\n",
    "import numpy as np\n",
    "import matplotlib.pyplot as plt\n",
    "import seaborn as sns"
   ]
  },
  {
   "cell_type": "code",
   "execution_count": 2,
   "id": "3cfee623",
   "metadata": {
    "execution": {
     "iopub.execute_input": "2023-06-27T21:44:50.644208Z",
     "iopub.status.busy": "2023-06-27T21:44:50.643855Z",
     "iopub.status.idle": "2023-06-27T21:44:50.682535Z",
     "shell.execute_reply": "2023-06-27T21:44:50.681569Z"
    },
    "papermill": {
     "duration": 0.044685,
     "end_time": "2023-06-27T21:44:50.684669",
     "exception": false,
     "start_time": "2023-06-27T21:44:50.639984",
     "status": "completed"
    },
    "tags": []
   },
   "outputs": [],
   "source": [
    "data = pd.read_csv('/kaggle/input/icr-identify-age-related-conditions/train.csv')\n",
    "ids = data['Id']\n",
    "data = data.drop('Id', axis=1)\n",
    "features = ['AB', 'AF', 'AH', 'AM', 'AR', 'AX', 'AY', 'AZ', 'BC', 'BN', 'BQ', 'BR', 'BZ', 'CB', 'CF', 'CH', 'CL', 'CR', 'CS', 'CU', 'DA', 'DE', 'DF', 'DH', 'DI', 'DL', 'DN', 'DV', 'DY', 'EB', 'EE', 'EG', 'EH', 'EP', 'EU', 'FE', 'FI', 'FR', 'GB', 'GE', 'GF', 'GH', 'GI']\n",
    "target = 'Class'"
   ]
  },
  {
   "cell_type": "code",
   "execution_count": 3,
   "id": "ab61bdd6",
   "metadata": {
    "execution": {
     "iopub.execute_input": "2023-06-27T21:44:50.691330Z",
     "iopub.status.busy": "2023-06-27T21:44:50.691034Z",
     "iopub.status.idle": "2023-06-27T21:44:50.730870Z",
     "shell.execute_reply": "2023-06-27T21:44:50.729929Z"
    },
    "papermill": {
     "duration": 0.045388,
     "end_time": "2023-06-27T21:44:50.732709",
     "exception": false,
     "start_time": "2023-06-27T21:44:50.687321",
     "status": "completed"
    },
    "tags": []
   },
   "outputs": [],
   "source": [
    "for column in features:\n",
    "    data[column] = data[column].replace([np.inf, -np.inf], np.nan)\n",
    "    data[column] = data[column].fillna(data[column].median())\n",
    "X = data[features]\n",
    "y = data[target]"
   ]
  },
  {
   "cell_type": "code",
   "execution_count": 4,
   "id": "68556274",
   "metadata": {
    "execution": {
     "iopub.execute_input": "2023-06-27T21:44:50.739196Z",
     "iopub.status.busy": "2023-06-27T21:44:50.738895Z",
     "iopub.status.idle": "2023-06-27T21:44:50.744678Z",
     "shell.execute_reply": "2023-06-27T21:44:50.743731Z"
    },
    "papermill": {
     "duration": 0.010862,
     "end_time": "2023-06-27T21:44:50.746324",
     "exception": false,
     "start_time": "2023-06-27T21:44:50.735462",
     "status": "completed"
    },
    "tags": []
   },
   "outputs": [],
   "source": [
    "X_train, X_test, y_train, y_test = train_test_split(X, y, test_size=0.3, random_state=42)"
   ]
  },
  {
   "cell_type": "code",
   "execution_count": 5,
   "id": "c590af40",
   "metadata": {
    "execution": {
     "iopub.execute_input": "2023-06-27T21:44:50.752350Z",
     "iopub.status.busy": "2023-06-27T21:44:50.752072Z",
     "iopub.status.idle": "2023-06-27T21:44:50.762269Z",
     "shell.execute_reply": "2023-06-27T21:44:50.761372Z"
    },
    "papermill": {
     "duration": 0.015434,
     "end_time": "2023-06-27T21:44:50.764219",
     "exception": false,
     "start_time": "2023-06-27T21:44:50.748785",
     "status": "completed"
    },
    "tags": []
   },
   "outputs": [],
   "source": [
    "scaler = MinMaxScaler()\n",
    "X_train_scaled = scaler.fit_transform(X_train)\n",
    "X_test_scaled = scaler.transform(X_test)"
   ]
  },
  {
   "cell_type": "code",
   "execution_count": 6,
   "id": "221ad243",
   "metadata": {
    "execution": {
     "iopub.execute_input": "2023-06-27T21:44:50.770907Z",
     "iopub.status.busy": "2023-06-27T21:44:50.770651Z",
     "iopub.status.idle": "2023-06-27T21:44:50.774238Z",
     "shell.execute_reply": "2023-06-27T21:44:50.773577Z"
    },
    "papermill": {
     "duration": 0.008931,
     "end_time": "2023-06-27T21:44:50.776051",
     "exception": false,
     "start_time": "2023-06-27T21:44:50.767120",
     "status": "completed"
    },
    "tags": []
   },
   "outputs": [],
   "source": [
    "model = RandomForestClassifier(n_estimators=100, max_depth=10, min_samples_leaf=5, random_state=42)"
   ]
  },
  {
   "cell_type": "code",
   "execution_count": 7,
   "id": "5497b048",
   "metadata": {
    "execution": {
     "iopub.execute_input": "2023-06-27T21:44:50.782744Z",
     "iopub.status.busy": "2023-06-27T21:44:50.782366Z",
     "iopub.status.idle": "2023-06-27T21:44:52.833279Z",
     "shell.execute_reply": "2023-06-27T21:44:52.832201Z"
    },
    "papermill": {
     "duration": 2.056225,
     "end_time": "2023-06-27T21:44:52.834960",
     "exception": false,
     "start_time": "2023-06-27T21:44:50.778735",
     "status": "completed"
    },
    "tags": []
   },
   "outputs": [
    {
     "name": "stdout",
     "output_type": "stream",
     "text": [
      "Log Loss scores for each fold: [0.24814792 0.27498943 0.23762069 0.34042647 0.39100394 0.2576977\n",
      " 0.31916388 0.26687743 0.30042487 0.3348471 ]\n",
      "Average Log Loss: 0.29711994269813485\n"
     ]
    }
   ],
   "source": [
    "scores = cross_val_score(model, X_train_scaled, y_train, cv=10, scoring='neg_log_loss')\n",
    "log_loss_scores = -scores\n",
    "print(f'Log Loss scores for each fold: {log_loss_scores}')\n",
    "average_log_loss = np.mean(log_loss_scores)\n",
    "print(f'Average Log Loss: {average_log_loss}')"
   ]
  },
  {
   "cell_type": "code",
   "execution_count": 8,
   "id": "d857951b",
   "metadata": {
    "execution": {
     "iopub.execute_input": "2023-06-27T21:44:52.841220Z",
     "iopub.status.busy": "2023-06-27T21:44:52.840967Z",
     "iopub.status.idle": "2023-06-27T21:44:53.064393Z",
     "shell.execute_reply": "2023-06-27T21:44:53.063491Z"
    },
    "papermill": {
     "duration": 0.228611,
     "end_time": "2023-06-27T21:44:53.066243",
     "exception": false,
     "start_time": "2023-06-27T21:44:52.837632",
     "status": "completed"
    },
    "tags": []
   },
   "outputs": [
    {
     "data": {
      "text/html": [
       "<style>#sk-container-id-1 {color: black;background-color: white;}#sk-container-id-1 pre{padding: 0;}#sk-container-id-1 div.sk-toggleable {background-color: white;}#sk-container-id-1 label.sk-toggleable__label {cursor: pointer;display: block;width: 100%;margin-bottom: 0;padding: 0.3em;box-sizing: border-box;text-align: center;}#sk-container-id-1 label.sk-toggleable__label-arrow:before {content: \"▸\";float: left;margin-right: 0.25em;color: #696969;}#sk-container-id-1 label.sk-toggleable__label-arrow:hover:before {color: black;}#sk-container-id-1 div.sk-estimator:hover label.sk-toggleable__label-arrow:before {color: black;}#sk-container-id-1 div.sk-toggleable__content {max-height: 0;max-width: 0;overflow: hidden;text-align: left;background-color: #f0f8ff;}#sk-container-id-1 div.sk-toggleable__content pre {margin: 0.2em;color: black;border-radius: 0.25em;background-color: #f0f8ff;}#sk-container-id-1 input.sk-toggleable__control:checked~div.sk-toggleable__content {max-height: 200px;max-width: 100%;overflow: auto;}#sk-container-id-1 input.sk-toggleable__control:checked~label.sk-toggleable__label-arrow:before {content: \"▾\";}#sk-container-id-1 div.sk-estimator input.sk-toggleable__control:checked~label.sk-toggleable__label {background-color: #d4ebff;}#sk-container-id-1 div.sk-label input.sk-toggleable__control:checked~label.sk-toggleable__label {background-color: #d4ebff;}#sk-container-id-1 input.sk-hidden--visually {border: 0;clip: rect(1px 1px 1px 1px);clip: rect(1px, 1px, 1px, 1px);height: 1px;margin: -1px;overflow: hidden;padding: 0;position: absolute;width: 1px;}#sk-container-id-1 div.sk-estimator {font-family: monospace;background-color: #f0f8ff;border: 1px dotted black;border-radius: 0.25em;box-sizing: border-box;margin-bottom: 0.5em;}#sk-container-id-1 div.sk-estimator:hover {background-color: #d4ebff;}#sk-container-id-1 div.sk-parallel-item::after {content: \"\";width: 100%;border-bottom: 1px solid gray;flex-grow: 1;}#sk-container-id-1 div.sk-label:hover label.sk-toggleable__label {background-color: #d4ebff;}#sk-container-id-1 div.sk-serial::before {content: \"\";position: absolute;border-left: 1px solid gray;box-sizing: border-box;top: 0;bottom: 0;left: 50%;z-index: 0;}#sk-container-id-1 div.sk-serial {display: flex;flex-direction: column;align-items: center;background-color: white;padding-right: 0.2em;padding-left: 0.2em;position: relative;}#sk-container-id-1 div.sk-item {position: relative;z-index: 1;}#sk-container-id-1 div.sk-parallel {display: flex;align-items: stretch;justify-content: center;background-color: white;position: relative;}#sk-container-id-1 div.sk-item::before, #sk-container-id-1 div.sk-parallel-item::before {content: \"\";position: absolute;border-left: 1px solid gray;box-sizing: border-box;top: 0;bottom: 0;left: 50%;z-index: -1;}#sk-container-id-1 div.sk-parallel-item {display: flex;flex-direction: column;z-index: 1;position: relative;background-color: white;}#sk-container-id-1 div.sk-parallel-item:first-child::after {align-self: flex-end;width: 50%;}#sk-container-id-1 div.sk-parallel-item:last-child::after {align-self: flex-start;width: 50%;}#sk-container-id-1 div.sk-parallel-item:only-child::after {width: 0;}#sk-container-id-1 div.sk-dashed-wrapped {border: 1px dashed gray;margin: 0 0.4em 0.5em 0.4em;box-sizing: border-box;padding-bottom: 0.4em;background-color: white;}#sk-container-id-1 div.sk-label label {font-family: monospace;font-weight: bold;display: inline-block;line-height: 1.2em;}#sk-container-id-1 div.sk-label-container {text-align: center;}#sk-container-id-1 div.sk-container {/* jupyter's `normalize.less` sets `[hidden] { display: none; }` but bootstrap.min.css set `[hidden] { display: none !important; }` so we also need the `!important` here to be able to override the default hidden behavior on the sphinx rendered scikit-learn.org. See: https://github.com/scikit-learn/scikit-learn/issues/21755 */display: inline-block !important;position: relative;}#sk-container-id-1 div.sk-text-repr-fallback {display: none;}</style><div id=\"sk-container-id-1\" class=\"sk-top-container\"><div class=\"sk-text-repr-fallback\"><pre>RandomForestClassifier(max_depth=10, min_samples_leaf=5, random_state=42)</pre><b>In a Jupyter environment, please rerun this cell to show the HTML representation or trust the notebook. <br />On GitHub, the HTML representation is unable to render, please try loading this page with nbviewer.org.</b></div><div class=\"sk-container\" hidden><div class=\"sk-item\"><div class=\"sk-estimator sk-toggleable\"><input class=\"sk-toggleable__control sk-hidden--visually\" id=\"sk-estimator-id-1\" type=\"checkbox\" checked><label for=\"sk-estimator-id-1\" class=\"sk-toggleable__label sk-toggleable__label-arrow\">RandomForestClassifier</label><div class=\"sk-toggleable__content\"><pre>RandomForestClassifier(max_depth=10, min_samples_leaf=5, random_state=42)</pre></div></div></div></div></div>"
      ],
      "text/plain": [
       "RandomForestClassifier(max_depth=10, min_samples_leaf=5, random_state=42)"
      ]
     },
     "execution_count": 8,
     "metadata": {},
     "output_type": "execute_result"
    }
   ],
   "source": [
    "model.fit(X_train_scaled, y_train)"
   ]
  },
  {
   "cell_type": "code",
   "execution_count": 9,
   "id": "6dd88ae4",
   "metadata": {
    "execution": {
     "iopub.execute_input": "2023-06-27T21:44:53.073473Z",
     "iopub.status.busy": "2023-06-27T21:44:53.073129Z",
     "iopub.status.idle": "2023-06-27T21:44:53.114374Z",
     "shell.execute_reply": "2023-06-27T21:44:53.113556Z"
    },
    "papermill": {
     "duration": 0.047137,
     "end_time": "2023-06-27T21:44:53.116401",
     "exception": false,
     "start_time": "2023-06-27T21:44:53.069264",
     "status": "completed"
    },
    "tags": []
   },
   "outputs": [],
   "source": [
    "test_data = pd.read_csv('/kaggle/input/icr-identify-age-related-conditions/test.csv')\n",
    "test_ids = test_data['Id']\n",
    "test_data = test_data.drop('Id', axis=1)\n",
    "test_data = test_data.replace([np.inf, -np.inf], np.nan)\n",
    "test_data.fillna(test_data.median(numeric_only=True), inplace=True)\n",
    "test_data_scaled = scaler.transform(test_data[features])\n",
    "test_preds = model.predict_proba(test_data_scaled)"
   ]
  },
  {
   "cell_type": "code",
   "execution_count": 10,
   "id": "3565ee76",
   "metadata": {
    "execution": {
     "iopub.execute_input": "2023-06-27T21:44:53.124519Z",
     "iopub.status.busy": "2023-06-27T21:44:53.124182Z",
     "iopub.status.idle": "2023-06-27T21:44:53.136440Z",
     "shell.execute_reply": "2023-06-27T21:44:53.135503Z"
    },
    "papermill": {
     "duration": 0.01803,
     "end_time": "2023-06-27T21:44:53.138618",
     "exception": false,
     "start_time": "2023-06-27T21:44:53.120588",
     "status": "completed"
    },
    "tags": []
   },
   "outputs": [],
   "source": [
    "submission = pd.DataFrame(test_ids, columns=['Id'])\n",
    "submission[['class_0', 'class_1']] = test_preds\n",
    "submission.to_csv('submission.csv', index=False)"
   ]
  }
 ],
 "metadata": {
  "kernelspec": {
   "display_name": "Python 3",
   "language": "python",
   "name": "python3"
  },
  "language_info": {
   "codemirror_mode": {
    "name": "ipython",
    "version": 3
   },
   "file_extension": ".py",
   "mimetype": "text/x-python",
   "name": "python",
   "nbconvert_exporter": "python",
   "pygments_lexer": "ipython3",
   "version": "3.10.10"
  },
  "papermill": {
   "default_parameters": {},
   "duration": 13.566343,
   "end_time": "2023-06-27T21:44:53.962649",
   "environment_variables": {},
   "exception": null,
   "input_path": "__notebook__.ipynb",
   "output_path": "__notebook__.ipynb",
   "parameters": {},
   "start_time": "2023-06-27T21:44:40.396306",
   "version": "2.4.0"
  }
 },
 "nbformat": 4,
 "nbformat_minor": 5
}

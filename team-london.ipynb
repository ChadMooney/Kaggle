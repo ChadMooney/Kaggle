{
 "cells": [
  {
   "cell_type": "code",
   "execution_count": 1,
   "id": "7f93d7f0",
   "metadata": {
    "execution": {
     "iopub.execute_input": "2023-06-27T22:45:20.414754Z",
     "iopub.status.busy": "2023-06-27T22:45:20.414122Z",
     "iopub.status.idle": "2023-06-27T22:45:22.139600Z",
     "shell.execute_reply": "2023-06-27T22:45:22.138702Z"
    },
    "papermill": {
     "duration": 1.733993,
     "end_time": "2023-06-27T22:45:22.141946",
     "exception": false,
     "start_time": "2023-06-27T22:45:20.407953",
     "status": "completed"
    },
    "tags": []
   },
   "outputs": [],
   "source": [
    "import pandas as pd\n",
    "from sklearn.ensemble import RandomForestClassifier\n",
    "from sklearn.preprocessing import MinMaxScaler\n",
    "from sklearn.model_selection import train_test_split, cross_val_score, GridSearchCV\n",
    "from sklearn.metrics import log_loss, confusion_matrix\n",
    "import numpy as np\n",
    "import matplotlib.pyplot as plt\n",
    "import seaborn as sns"
   ]
  },
  {
   "cell_type": "code",
   "execution_count": 2,
   "id": "2faa4e13",
   "metadata": {
    "execution": {
     "iopub.execute_input": "2023-06-27T22:45:22.152441Z",
     "iopub.status.busy": "2023-06-27T22:45:22.151468Z",
     "iopub.status.idle": "2023-06-27T22:45:22.182525Z",
     "shell.execute_reply": "2023-06-27T22:45:22.181551Z"
    },
    "papermill": {
     "duration": 0.038584,
     "end_time": "2023-06-27T22:45:22.185052",
     "exception": false,
     "start_time": "2023-06-27T22:45:22.146468",
     "status": "completed"
    },
    "tags": []
   },
   "outputs": [],
   "source": [
    "data = pd.read_csv('/kaggle/input/icr-identify-age-related-conditions/train.csv')"
   ]
  },
  {
   "cell_type": "code",
   "execution_count": 3,
   "id": "bbadbe02",
   "metadata": {
    "execution": {
     "iopub.execute_input": "2023-06-27T22:45:22.194481Z",
     "iopub.status.busy": "2023-06-27T22:45:22.194164Z",
     "iopub.status.idle": "2023-06-27T22:45:22.209378Z",
     "shell.execute_reply": "2023-06-27T22:45:22.208584Z"
    },
    "papermill": {
     "duration": 0.022084,
     "end_time": "2023-06-27T22:45:22.211387",
     "exception": false,
     "start_time": "2023-06-27T22:45:22.189303",
     "status": "completed"
    },
    "tags": []
   },
   "outputs": [],
   "source": [
    "# Feature Engineering\n",
    "features = [column for column in data.columns if column not in ['Id', 'Class']]\n",
    "target = 'Class'\n",
    "for col in data.columns:\n",
    "    if data[col].dtype == 'object':\n",
    "        data[col] = data[col].astype('category').cat.codes"
   ]
  },
  {
   "cell_type": "code",
   "execution_count": 4,
   "id": "c4f3062d",
   "metadata": {
    "execution": {
     "iopub.execute_input": "2023-06-27T22:45:22.220421Z",
     "iopub.status.busy": "2023-06-27T22:45:22.220101Z",
     "iopub.status.idle": "2023-06-27T22:45:22.278307Z",
     "shell.execute_reply": "2023-06-27T22:45:22.277507Z"
    },
    "papermill": {
     "duration": 0.065195,
     "end_time": "2023-06-27T22:45:22.280552",
     "exception": false,
     "start_time": "2023-06-27T22:45:22.215357",
     "status": "completed"
    },
    "tags": []
   },
   "outputs": [],
   "source": [
    "# Remove inf and fill NaNs\n",
    "for column in features:\n",
    "    data[column] = data[column].replace([np.inf, -np.inf], np.nan)\n",
    "    data[column] = data[column].fillna(data[column].median())"
   ]
  },
  {
   "cell_type": "code",
   "execution_count": 5,
   "id": "69ea88a6",
   "metadata": {
    "execution": {
     "iopub.execute_input": "2023-06-27T22:45:22.290036Z",
     "iopub.status.busy": "2023-06-27T22:45:22.289379Z",
     "iopub.status.idle": "2023-06-27T22:45:22.669175Z",
     "shell.execute_reply": "2023-06-27T22:45:22.668285Z"
    },
    "papermill": {
     "duration": 0.387006,
     "end_time": "2023-06-27T22:45:22.671574",
     "exception": false,
     "start_time": "2023-06-27T22:45:22.284568",
     "status": "completed"
    },
    "tags": []
   },
   "outputs": [],
   "source": [
    "# Initial Random Forest to get feature importances\n",
    "rf = RandomForestClassifier(random_state=42)\n",
    "rf.fit(data[features], data[target])\n",
    "importances = rf.feature_importances_"
   ]
  },
  {
   "cell_type": "code",
   "execution_count": 6,
   "id": "2e14250c",
   "metadata": {
    "execution": {
     "iopub.execute_input": "2023-06-27T22:45:22.681159Z",
     "iopub.status.busy": "2023-06-27T22:45:22.680500Z",
     "iopub.status.idle": "2023-06-27T22:45:22.685739Z",
     "shell.execute_reply": "2023-06-27T22:45:22.684848Z"
    },
    "papermill": {
     "duration": 0.01195,
     "end_time": "2023-06-27T22:45:22.687595",
     "exception": false,
     "start_time": "2023-06-27T22:45:22.675645",
     "status": "completed"
    },
    "tags": []
   },
   "outputs": [],
   "source": [
    "# Create a DataFrame for visualization\n",
    "feature_importances = pd.DataFrame({'Feature': features, 'Importance': importances})"
   ]
  },
  {
   "cell_type": "code",
   "execution_count": 7,
   "id": "426625d6",
   "metadata": {
    "execution": {
     "iopub.execute_input": "2023-06-27T22:45:22.698419Z",
     "iopub.status.busy": "2023-06-27T22:45:22.698107Z",
     "iopub.status.idle": "2023-06-27T22:45:22.704942Z",
     "shell.execute_reply": "2023-06-27T22:45:22.703998Z"
    },
    "papermill": {
     "duration": 0.015561,
     "end_time": "2023-06-27T22:45:22.707094",
     "exception": false,
     "start_time": "2023-06-27T22:45:22.691533",
     "status": "completed"
    },
    "tags": []
   },
   "outputs": [],
   "source": [
    "# Sort by importance\n",
    "feature_importances = feature_importances.sort_values('Importance', ascending=False)\n",
    "\n",
    "# Select top features\n",
    "top_features = feature_importances['Feature'][:15]  \n",
    "\n",
    "# Only use top features for X\n",
    "X = data[top_features]\n",
    "y = data[target]"
   ]
  },
  {
   "cell_type": "code",
   "execution_count": 8,
   "id": "1358ae3a",
   "metadata": {
    "execution": {
     "iopub.execute_input": "2023-06-27T22:45:22.716775Z",
     "iopub.status.busy": "2023-06-27T22:45:22.716479Z",
     "iopub.status.idle": "2023-06-27T22:45:22.723822Z",
     "shell.execute_reply": "2023-06-27T22:45:22.722890Z"
    },
    "papermill": {
     "duration": 0.014311,
     "end_time": "2023-06-27T22:45:22.725877",
     "exception": false,
     "start_time": "2023-06-27T22:45:22.711566",
     "status": "completed"
    },
    "tags": []
   },
   "outputs": [],
   "source": [
    "# Train/Test Split\n",
    "X_train, X_test, y_train, y_test = train_test_split(X, y, test_size=0.3, random_state=42)"
   ]
  },
  {
   "cell_type": "code",
   "execution_count": 9,
   "id": "c5c9c884",
   "metadata": {
    "execution": {
     "iopub.execute_input": "2023-06-27T22:45:22.734777Z",
     "iopub.status.busy": "2023-06-27T22:45:22.734495Z",
     "iopub.status.idle": "2023-06-27T22:45:22.742936Z",
     "shell.execute_reply": "2023-06-27T22:45:22.742305Z"
    },
    "papermill": {
     "duration": 0.015261,
     "end_time": "2023-06-27T22:45:22.744965",
     "exception": false,
     "start_time": "2023-06-27T22:45:22.729704",
     "status": "completed"
    },
    "tags": []
   },
   "outputs": [],
   "source": [
    "# Scaling\n",
    "scaler = MinMaxScaler()\n",
    "X_train_scaled = scaler.fit_transform(X_train)\n",
    "X_test_scaled = scaler.transform(X_test)"
   ]
  },
  {
   "cell_type": "code",
   "execution_count": 10,
   "id": "44c5394a",
   "metadata": {
    "execution": {
     "iopub.execute_input": "2023-06-27T22:45:22.754543Z",
     "iopub.status.busy": "2023-06-27T22:45:22.753997Z",
     "iopub.status.idle": "2023-06-27T22:45:22.758437Z",
     "shell.execute_reply": "2023-06-27T22:45:22.757630Z"
    },
    "papermill": {
     "duration": 0.011407,
     "end_time": "2023-06-27T22:45:22.760355",
     "exception": false,
     "start_time": "2023-06-27T22:45:22.748948",
     "status": "completed"
    },
    "tags": []
   },
   "outputs": [],
   "source": [
    "# Model Definition with hyperparameters\n",
    "model = RandomForestClassifier(n_estimators=100, max_depth=10, min_samples_leaf=5, random_state=42)"
   ]
  },
  {
   "cell_type": "code",
   "execution_count": 11,
   "id": "a0e17e45",
   "metadata": {
    "execution": {
     "iopub.execute_input": "2023-06-27T22:45:22.769315Z",
     "iopub.status.busy": "2023-06-27T22:45:22.769012Z",
     "iopub.status.idle": "2023-06-27T22:45:24.860767Z",
     "shell.execute_reply": "2023-06-27T22:45:24.859678Z"
    },
    "papermill": {
     "duration": 2.098828,
     "end_time": "2023-06-27T22:45:24.863040",
     "exception": false,
     "start_time": "2023-06-27T22:45:22.764212",
     "status": "completed"
    },
    "tags": []
   },
   "outputs": [
    {
     "name": "stdout",
     "output_type": "stream",
     "text": [
      "Log Loss scores for each fold: [0.26884601 0.18671168 0.20428431 0.25647576 0.3816736  0.21844095\n",
      " 0.28743277 0.19909164 0.20006771 0.28281357]\n",
      "Average Log Loss: 0.24858380063474997\n"
     ]
    }
   ],
   "source": [
    "# Cross-validation\n",
    "scores = cross_val_score(model, X_train_scaled, y_train, cv=10, scoring='neg_log_loss')\n",
    "log_loss_scores = -scores\n",
    "print(f'Log Loss scores for each fold: {log_loss_scores}')\n",
    "average_log_loss = np.mean(log_loss_scores)\n",
    "print(f'Average Log Loss: {average_log_loss}')"
   ]
  },
  {
   "cell_type": "code",
   "execution_count": 12,
   "id": "2696df8c",
   "metadata": {
    "execution": {
     "iopub.execute_input": "2023-06-27T22:45:24.873980Z",
     "iopub.status.busy": "2023-06-27T22:45:24.872240Z",
     "iopub.status.idle": "2023-06-27T22:45:25.090095Z",
     "shell.execute_reply": "2023-06-27T22:45:25.088861Z"
    },
    "papermill": {
     "duration": 0.226147,
     "end_time": "2023-06-27T22:45:25.093469",
     "exception": false,
     "start_time": "2023-06-27T22:45:24.867322",
     "status": "completed"
    },
    "tags": []
   },
   "outputs": [
    {
     "data": {
      "text/html": [
       "<style>#sk-container-id-1 {color: black;background-color: white;}#sk-container-id-1 pre{padding: 0;}#sk-container-id-1 div.sk-toggleable {background-color: white;}#sk-container-id-1 label.sk-toggleable__label {cursor: pointer;display: block;width: 100%;margin-bottom: 0;padding: 0.3em;box-sizing: border-box;text-align: center;}#sk-container-id-1 label.sk-toggleable__label-arrow:before {content: \"▸\";float: left;margin-right: 0.25em;color: #696969;}#sk-container-id-1 label.sk-toggleable__label-arrow:hover:before {color: black;}#sk-container-id-1 div.sk-estimator:hover label.sk-toggleable__label-arrow:before {color: black;}#sk-container-id-1 div.sk-toggleable__content {max-height: 0;max-width: 0;overflow: hidden;text-align: left;background-color: #f0f8ff;}#sk-container-id-1 div.sk-toggleable__content pre {margin: 0.2em;color: black;border-radius: 0.25em;background-color: #f0f8ff;}#sk-container-id-1 input.sk-toggleable__control:checked~div.sk-toggleable__content {max-height: 200px;max-width: 100%;overflow: auto;}#sk-container-id-1 input.sk-toggleable__control:checked~label.sk-toggleable__label-arrow:before {content: \"▾\";}#sk-container-id-1 div.sk-estimator input.sk-toggleable__control:checked~label.sk-toggleable__label {background-color: #d4ebff;}#sk-container-id-1 div.sk-label input.sk-toggleable__control:checked~label.sk-toggleable__label {background-color: #d4ebff;}#sk-container-id-1 input.sk-hidden--visually {border: 0;clip: rect(1px 1px 1px 1px);clip: rect(1px, 1px, 1px, 1px);height: 1px;margin: -1px;overflow: hidden;padding: 0;position: absolute;width: 1px;}#sk-container-id-1 div.sk-estimator {font-family: monospace;background-color: #f0f8ff;border: 1px dotted black;border-radius: 0.25em;box-sizing: border-box;margin-bottom: 0.5em;}#sk-container-id-1 div.sk-estimator:hover {background-color: #d4ebff;}#sk-container-id-1 div.sk-parallel-item::after {content: \"\";width: 100%;border-bottom: 1px solid gray;flex-grow: 1;}#sk-container-id-1 div.sk-label:hover label.sk-toggleable__label {background-color: #d4ebff;}#sk-container-id-1 div.sk-serial::before {content: \"\";position: absolute;border-left: 1px solid gray;box-sizing: border-box;top: 0;bottom: 0;left: 50%;z-index: 0;}#sk-container-id-1 div.sk-serial {display: flex;flex-direction: column;align-items: center;background-color: white;padding-right: 0.2em;padding-left: 0.2em;position: relative;}#sk-container-id-1 div.sk-item {position: relative;z-index: 1;}#sk-container-id-1 div.sk-parallel {display: flex;align-items: stretch;justify-content: center;background-color: white;position: relative;}#sk-container-id-1 div.sk-item::before, #sk-container-id-1 div.sk-parallel-item::before {content: \"\";position: absolute;border-left: 1px solid gray;box-sizing: border-box;top: 0;bottom: 0;left: 50%;z-index: -1;}#sk-container-id-1 div.sk-parallel-item {display: flex;flex-direction: column;z-index: 1;position: relative;background-color: white;}#sk-container-id-1 div.sk-parallel-item:first-child::after {align-self: flex-end;width: 50%;}#sk-container-id-1 div.sk-parallel-item:last-child::after {align-self: flex-start;width: 50%;}#sk-container-id-1 div.sk-parallel-item:only-child::after {width: 0;}#sk-container-id-1 div.sk-dashed-wrapped {border: 1px dashed gray;margin: 0 0.4em 0.5em 0.4em;box-sizing: border-box;padding-bottom: 0.4em;background-color: white;}#sk-container-id-1 div.sk-label label {font-family: monospace;font-weight: bold;display: inline-block;line-height: 1.2em;}#sk-container-id-1 div.sk-label-container {text-align: center;}#sk-container-id-1 div.sk-container {/* jupyter's `normalize.less` sets `[hidden] { display: none; }` but bootstrap.min.css set `[hidden] { display: none !important; }` so we also need the `!important` here to be able to override the default hidden behavior on the sphinx rendered scikit-learn.org. See: https://github.com/scikit-learn/scikit-learn/issues/21755 */display: inline-block !important;position: relative;}#sk-container-id-1 div.sk-text-repr-fallback {display: none;}</style><div id=\"sk-container-id-1\" class=\"sk-top-container\"><div class=\"sk-text-repr-fallback\"><pre>RandomForestClassifier(max_depth=10, min_samples_leaf=5, random_state=42)</pre><b>In a Jupyter environment, please rerun this cell to show the HTML representation or trust the notebook. <br />On GitHub, the HTML representation is unable to render, please try loading this page with nbviewer.org.</b></div><div class=\"sk-container\" hidden><div class=\"sk-item\"><div class=\"sk-estimator sk-toggleable\"><input class=\"sk-toggleable__control sk-hidden--visually\" id=\"sk-estimator-id-1\" type=\"checkbox\" checked><label for=\"sk-estimator-id-1\" class=\"sk-toggleable__label sk-toggleable__label-arrow\">RandomForestClassifier</label><div class=\"sk-toggleable__content\"><pre>RandomForestClassifier(max_depth=10, min_samples_leaf=5, random_state=42)</pre></div></div></div></div></div>"
      ],
      "text/plain": [
       "RandomForestClassifier(max_depth=10, min_samples_leaf=5, random_state=42)"
      ]
     },
     "execution_count": 12,
     "metadata": {},
     "output_type": "execute_result"
    }
   ],
   "source": [
    "# Training the model\n",
    "model.fit(X_train_scaled, y_train)"
   ]
  },
  {
   "cell_type": "code",
   "execution_count": 13,
   "id": "7a1f3e9a",
   "metadata": {
    "execution": {
     "iopub.execute_input": "2023-06-27T22:45:25.103242Z",
     "iopub.status.busy": "2023-06-27T22:45:25.102901Z",
     "iopub.status.idle": "2023-06-27T22:45:25.355780Z",
     "shell.execute_reply": "2023-06-27T22:45:25.354811Z"
    },
    "papermill": {
     "duration": 0.260208,
     "end_time": "2023-06-27T22:45:25.358027",
     "exception": false,
     "start_time": "2023-06-27T22:45:25.097819",
     "status": "completed"
    },
    "tags": []
   },
   "outputs": [
    {
     "data": {
      "image/png": "[encoded data removed]",
      "text/plain": [
       "<Figure size 1000x700 with 2 Axes>"
      ]
     },
     "metadata": {},
     "output_type": "display_data"
    }
   ],
   "source": [
    "# Confusion Matrix\n",
    "y_pred = model.predict(X_test_scaled)\n",
    "cm = confusion_matrix(y_test, y_pred)\n",
    "plt.figure(figsize=(10,7))\n",
    "sns.heatmap(cm, annot=True, cmap='Blues', fmt='g')\n",
    "plt.xlabel('Predicted')\n",
    "plt.ylabel('Actual')\n",
    "plt.show()"
   ]
  },
  {
   "cell_type": "code",
   "execution_count": 14,
   "id": "7dc6a530",
   "metadata": {
    "execution": {
     "iopub.execute_input": "2023-06-27T22:45:25.368412Z",
     "iopub.status.busy": "2023-06-27T22:45:25.368074Z",
     "iopub.status.idle": "2023-06-27T22:45:25.416424Z",
     "shell.execute_reply": "2023-06-27T22:45:25.415613Z"
    },
    "papermill": {
     "duration": 0.055814,
     "end_time": "2023-06-27T22:45:25.418497",
     "exception": false,
     "start_time": "2023-06-27T22:45:25.362683",
     "status": "completed"
    },
    "tags": []
   },
   "outputs": [],
   "source": [
    "# Testing\n",
    "test_data = pd.read_csv('/kaggle/input/icr-identify-age-related-conditions/test.csv')\n",
    "test_ids = test_data['Id']\n",
    "test_data = test_data.drop('Id', axis=1)\n",
    "test_data = test_data.replace([np.inf, -np.inf], np.nan)\n",
    "test_data.fillna(test_data.median(numeric_only=True), inplace=True)\n",
    "test_data_scaled = scaler.transform(test_data[top_features])\n",
    "test_preds = model.predict_proba(test_data_scaled)"
   ]
  },
  {
   "cell_type": "code",
   "execution_count": 15,
   "id": "f52b0f04",
   "metadata": {
    "execution": {
     "iopub.execute_input": "2023-06-27T22:45:25.429171Z",
     "iopub.status.busy": "2023-06-27T22:45:25.428824Z",
     "iopub.status.idle": "2023-06-27T22:45:25.440347Z",
     "shell.execute_reply": "2023-06-27T22:45:25.439516Z"
    },
    "papermill": {
     "duration": 0.019066,
     "end_time": "2023-06-27T22:45:25.442256",
     "exception": false,
     "start_time": "2023-06-27T22:45:25.423190",
     "status": "completed"
    },
    "tags": []
   },
   "outputs": [],
   "source": [
    "# Create a submission file\n",
    "submission = pd.DataFrame(test_ids, columns=['Id'])\n",
    "submission[['class_0', 'class_1']] = test_preds\n",
    "submission.to_csv('submission.csv', index=False)"
   ]
  },
  {
   "cell_type": "code",
   "execution_count": null,
   "id": "d405d254",
   "metadata": {
    "papermill": {
     "duration": 0.004308,
     "end_time": "2023-06-27T22:45:25.451161",
     "exception": false,
     "start_time": "2023-06-27T22:45:25.446853",
     "status": "completed"
    },
    "tags": []
   },
   "outputs": [],
   "source": []
  }
 ],
 "metadata": {
  "kernelspec": {
   "display_name": "Python 3",
   "language": "python",
   "name": "python3"
  },
  "language_info": {
   "codemirror_mode": {
    "name": "ipython",
    "version": 3
   },
   "file_extension": ".py",
   "mimetype": "text/x-python",
   "name": "python",
   "nbconvert_exporter": "python",
   "pygments_lexer": "ipython3",
   "version": "3.10.10"
  },
  "papermill": {
   "default_parameters": {},
   "duration": 14.823777,
   "end_time": "2023-06-27T22:45:26.274769",
   "environment_variables": {},
   "exception": null,
   "input_path": "__notebook__.ipynb",
   "output_path": "__notebook__.ipynb",
   "parameters": {},
   "start_time": "2023-06-27T22:45:11.450992",
   "version": "2.4.0"
  }
 },
 "nbformat": 4,
 "nbformat_minor": 5
}

{
 "cells": [
  {
   "cell_type": "code",
   "execution_count": 1,
   "id": "878ba645",
   "metadata": {
    "execution": {
     "iopub.execute_input": "2023-06-26T21:43:05.347462Z",
     "iopub.status.busy": "2023-06-26T21:43:05.347067Z",
     "iopub.status.idle": "2023-06-26T21:43:07.160751Z",
     "shell.execute_reply": "2023-06-26T21:43:07.159818Z"
    },
    "papermill": {
     "duration": 1.82367,
     "end_time": "2023-06-26T21:43:07.163880",
     "exception": false,
     "start_time": "2023-06-26T21:43:05.340210",
     "status": "completed"
    },
    "tags": []
   },
   "outputs": [],
   "source": [
    "import pandas as pd\n",
    "from sklearn.ensemble import RandomForestClassifier\n",
    "from sklearn.preprocessing import StandardScaler, MinMaxScaler\n",
    "from sklearn.model_selection import train_test_split, cross_val_score\n",
    "from sklearn.metrics import log_loss\n",
    "import numpy as np\n",
    "from sklearn.model_selection import GridSearchCV"
   ]
  },
  {
   "cell_type": "code",
   "execution_count": 2,
   "id": "345949d1",
   "metadata": {
    "execution": {
     "iopub.execute_input": "2023-06-26T21:43:07.175560Z",
     "iopub.status.busy": "2023-06-26T21:43:07.175190Z",
     "iopub.status.idle": "2023-06-26T21:43:07.227804Z",
     "shell.execute_reply": "2023-06-26T21:43:07.226648Z"
    },
    "papermill": {
     "duration": 0.061473,
     "end_time": "2023-06-26T21:43:07.230558",
     "exception": false,
     "start_time": "2023-06-26T21:43:07.169085",
     "status": "completed"
    },
    "tags": []
   },
   "outputs": [],
   "source": [
    "data = pd.read_csv('/kaggle/input/icr-identify-age-related-conditions/train.csv')\n",
    "ids = data['Id']\n",
    "data = data.drop('Id', axis=1)\n",
    "features = ['AB', 'AF', 'AH', 'AM', 'AR', 'AX', 'AY', 'AZ', 'BC', 'BN', 'BQ', 'BR', 'BZ', 'CB', 'CF', 'CH', 'CL', 'CR', 'CS', 'CU', 'DA', 'DE', 'DF', 'DH', 'DI', 'DL', 'DN', 'DV', 'DY', 'EB', 'EE', 'EG', 'EH', 'EP', 'EU', 'FE', 'FI', 'FR', 'GB', 'GE', 'GF', 'GH', 'GI']\n",
    "target = 'Class'"
   ]
  },
  {
   "cell_type": "code",
   "execution_count": 3,
   "id": "26764d81",
   "metadata": {
    "execution": {
     "iopub.execute_input": "2023-06-26T21:43:07.242182Z",
     "iopub.status.busy": "2023-06-26T21:43:07.241753Z",
     "iopub.status.idle": "2023-06-26T21:43:07.297120Z",
     "shell.execute_reply": "2023-06-26T21:43:07.296063Z"
    },
    "papermill": {
     "duration": 0.064129,
     "end_time": "2023-06-26T21:43:07.299712",
     "exception": false,
     "start_time": "2023-06-26T21:43:07.235583",
     "status": "completed"
    },
    "tags": []
   },
   "outputs": [],
   "source": [
    "for column in features:\n",
    "    data[column] = data[column].replace([np.inf, -np.inf], np.nan)\n",
    "    data[column] = data[column].fillna(data[column].median())\n",
    "X = data[features]\n",
    "y = data[target]"
   ]
  },
  {
   "cell_type": "code",
   "execution_count": 4,
   "id": "59af0000",
   "metadata": {
    "execution": {
     "iopub.execute_input": "2023-06-26T21:43:07.311096Z",
     "iopub.status.busy": "2023-06-26T21:43:07.310721Z",
     "iopub.status.idle": "2023-06-26T21:43:07.317277Z",
     "shell.execute_reply": "2023-06-26T21:43:07.316508Z"
    },
    "papermill": {
     "duration": 0.014823,
     "end_time": "2023-06-26T21:43:07.319474",
     "exception": false,
     "start_time": "2023-06-26T21:43:07.304651",
     "status": "completed"
    },
    "tags": []
   },
   "outputs": [],
   "source": [
    "X_train, X_test, y_train, y_test = train_test_split(X, y, test_size=0.3, random_state=42)"
   ]
  },
  {
   "cell_type": "code",
   "execution_count": 5,
   "id": "1f81a1c7",
   "metadata": {
    "execution": {
     "iopub.execute_input": "2023-06-26T21:43:07.330947Z",
     "iopub.status.busy": "2023-06-26T21:43:07.330535Z",
     "iopub.status.idle": "2023-06-26T21:43:26.326387Z",
     "shell.execute_reply": "2023-06-26T21:43:26.324618Z"
    },
    "papermill": {
     "duration": 19.005338,
     "end_time": "2023-06-26T21:43:26.329713",
     "exception": false,
     "start_time": "2023-06-26T21:43:07.324375",
     "status": "completed"
    },
    "tags": []
   },
   "outputs": [
    {
     "name": "stdout",
     "output_type": "stream",
     "text": [
      "Best parameters: {'max_depth': None, 'n_estimators': 200, 'random_state': 42}\n"
     ]
    }
   ],
   "source": [
    "param_grid = {\n",
    "    'n_estimators': [50, 100, 150, 200],  \n",
    "    'max_depth': [None, 10, 20, 30],  \n",
    "    'random_state': [42],  \n",
    "}\n",
    "\n",
    "rf = RandomForestClassifier()\n",
    "grid_search = GridSearchCV(estimator=rf, param_grid=param_grid, cv=3, scoring='neg_log_loss')\n",
    "grid_search.fit(X_train, y_train)\n",
    "best_params = grid_search.best_params_\n",
    "print(f\"Best parameters: {best_params}\")"
   ]
  },
  {
   "cell_type": "code",
   "execution_count": 6,
   "id": "b5738c0b",
   "metadata": {
    "execution": {
     "iopub.execute_input": "2023-06-26T21:43:26.342575Z",
     "iopub.status.busy": "2023-06-26T21:43:26.342162Z",
     "iopub.status.idle": "2023-06-26T21:43:26.716612Z",
     "shell.execute_reply": "2023-06-26T21:43:26.715429Z"
    },
    "papermill": {
     "duration": 0.384206,
     "end_time": "2023-06-26T21:43:26.719631",
     "exception": false,
     "start_time": "2023-06-26T21:43:26.335425",
     "status": "completed"
    },
    "tags": []
   },
   "outputs": [
    {
     "name": "stdout",
     "output_type": "stream",
     "text": [
      "   Feature  Importance\n",
      "32      EH    0.076214\n",
      "20      DA    0.063733\n",
      "10      BQ    0.060850\n",
      "37      FR    0.060201\n",
      "24      DI    0.054527\n",
      "17      CR    0.048905\n",
      "35      FE    0.034885\n",
      "0       AB    0.034456\n",
      "8       BC    0.031887\n",
      "36      FI    0.029591\n",
      "30      EE    0.029191\n",
      "26      DN    0.027987\n",
      "1       AF    0.027546\n",
      "19      CU    0.025733\n",
      "23      DH    0.023904\n",
      "21      DE    0.023131\n",
      "41      GH    0.019282\n",
      "11      BR    0.018828\n",
      "9       BN    0.018530\n",
      "40      GF    0.018388\n",
      "15      CH    0.018107\n",
      "3       AM    0.017737\n",
      "25      DL    0.015982\n",
      "38      GB    0.014852\n",
      "18      CS    0.014747\n",
      "14      CF    0.014427\n",
      "29      EB    0.014411\n",
      "5       AX    0.013953\n",
      "42      GI    0.013948\n",
      "31      EG    0.013795\n",
      "13      CB    0.012156\n",
      "28      DY    0.012029\n",
      "27      DV    0.011859\n",
      "7       AZ    0.010564\n",
      "34      EU    0.010277\n",
      "6       AY    0.009848\n",
      "22      DF    0.009468\n",
      "4       AR    0.009308\n",
      "33      EP    0.007833\n",
      "2       AH    0.007823\n",
      "16      CL    0.006698\n",
      "12      BZ    0.006306\n",
      "39      GE    0.006106\n"
     ]
    }
   ],
   "source": [
    "rf = RandomForestClassifier(n_estimators=100, random_state=42)\n",
    "rf.fit(X_train, y_train)\n",
    "importances = rf.feature_importances_\n",
    "feature_importances = pd.DataFrame({'Feature': features, 'Importance': importances})\n",
    "feature_importances = feature_importances.sort_values('Importance', ascending=False)\n",
    "print(feature_importances)"
   ]
  },
  {
   "cell_type": "code",
   "execution_count": 7,
   "id": "c872872f",
   "metadata": {
    "execution": {
     "iopub.execute_input": "2023-06-26T21:43:26.731702Z",
     "iopub.status.busy": "2023-06-26T21:43:26.731303Z",
     "iopub.status.idle": "2023-06-26T21:43:26.737207Z",
     "shell.execute_reply": "2023-06-26T21:43:26.736085Z"
    },
    "papermill": {
     "duration": 0.014688,
     "end_time": "2023-06-26T21:43:26.739547",
     "exception": false,
     "start_time": "2023-06-26T21:43:26.724859",
     "status": "completed"
    },
    "tags": []
   },
   "outputs": [],
   "source": [
    "important_features = feature_importances[feature_importances['Importance'] > 0.01]['Feature']"
   ]
  },
  {
   "cell_type": "code",
   "execution_count": 8,
   "id": "adb5eee2",
   "metadata": {
    "execution": {
     "iopub.execute_input": "2023-06-26T21:43:26.752855Z",
     "iopub.status.busy": "2023-06-26T21:43:26.752479Z",
     "iopub.status.idle": "2023-06-26T21:43:26.759501Z",
     "shell.execute_reply": "2023-06-26T21:43:26.758326Z"
    },
    "papermill": {
     "duration": 0.017692,
     "end_time": "2023-06-26T21:43:26.762295",
     "exception": false,
     "start_time": "2023-06-26T21:43:26.744603",
     "status": "completed"
    },
    "tags": []
   },
   "outputs": [],
   "source": [
    "X_train = X_train[important_features]\n",
    "X_test = X_test[important_features]"
   ]
  },
  {
   "cell_type": "code",
   "execution_count": 9,
   "id": "1507016a",
   "metadata": {
    "execution": {
     "iopub.execute_input": "2023-06-26T21:43:26.774675Z",
     "iopub.status.busy": "2023-06-26T21:43:26.774008Z",
     "iopub.status.idle": "2023-06-26T21:43:26.786424Z",
     "shell.execute_reply": "2023-06-26T21:43:26.785620Z"
    },
    "papermill": {
     "duration": 0.020905,
     "end_time": "2023-06-26T21:43:26.788540",
     "exception": false,
     "start_time": "2023-06-26T21:43:26.767635",
     "status": "completed"
    },
    "tags": []
   },
   "outputs": [],
   "source": [
    "scaler = MinMaxScaler()\n",
    "X_train_scaled = scaler.fit_transform(X_train)\n",
    "X_test_scaled = scaler.transform(X_test)\n",
    "model = RandomForestClassifier(n_estimators=best_params['n_estimators'], \n",
    "                               max_depth=best_params['max_depth'], \n",
    "                               random_state=best_params['random_state'])"
   ]
  },
  {
   "cell_type": "code",
   "execution_count": 10,
   "id": "deb0349c",
   "metadata": {
    "execution": {
     "iopub.execute_input": "2023-06-26T21:43:26.800760Z",
     "iopub.status.busy": "2023-06-26T21:43:26.800013Z",
     "iopub.status.idle": "2023-06-26T21:43:29.950312Z",
     "shell.execute_reply": "2023-06-26T21:43:29.949262Z"
    },
    "papermill": {
     "duration": 3.159939,
     "end_time": "2023-06-26T21:43:29.953649",
     "exception": false,
     "start_time": "2023-06-26T21:43:26.793710",
     "status": "completed"
    },
    "tags": []
   },
   "outputs": [
    {
     "name": "stdout",
     "output_type": "stream",
     "text": [
      "Log Loss scores for each fold: [0.24505786 0.27849377 0.35209726 0.27951359 0.3002465 ]\n",
      "Average Log Loss: 0.2910817928967755\n"
     ]
    }
   ],
   "source": [
    "scores = cross_val_score(model, X_train_scaled, y_train, cv=5, scoring='neg_log_loss')\n",
    "log_loss_scores = -scores\n",
    "print(f'Log Loss scores for each fold: {log_loss_scores}')\n",
    "average_log_loss = np.mean(log_loss_scores)\n",
    "print(f'Average Log Loss: {average_log_loss}')"
   ]
  },
  {
   "cell_type": "code",
   "execution_count": 11,
   "id": "27260293",
   "metadata": {
    "execution": {
     "iopub.execute_input": "2023-06-26T21:43:29.966536Z",
     "iopub.status.busy": "2023-06-26T21:43:29.965796Z",
     "iopub.status.idle": "2023-06-26T21:43:30.673101Z",
     "shell.execute_reply": "2023-06-26T21:43:30.672058Z"
    },
    "papermill": {
     "duration": 0.716749,
     "end_time": "2023-06-26T21:43:30.675971",
     "exception": false,
     "start_time": "2023-06-26T21:43:29.959222",
     "status": "completed"
    },
    "tags": []
   },
   "outputs": [],
   "source": [
    "model.fit(X_train_scaled, y_train)\n",
    "test_data = pd.read_csv('/kaggle/input/icr-identify-age-related-conditions/test.csv')\n",
    "test_ids = test_data['Id']\n",
    "test_data = test_data.drop('Id', axis=1)\n",
    "test_data = test_data.replace([np.inf, -np.inf], np.nan)\n",
    "test_data.fillna(test_data.median(numeric_only=True), inplace=True)"
   ]
  },
  {
   "cell_type": "code",
   "execution_count": 12,
   "id": "834e0f8d",
   "metadata": {
    "execution": {
     "iopub.execute_input": "2023-06-26T21:43:30.688764Z",
     "iopub.status.busy": "2023-06-26T21:43:30.688400Z",
     "iopub.status.idle": "2023-06-26T21:43:30.728687Z",
     "shell.execute_reply": "2023-06-26T21:43:30.727494Z"
    },
    "papermill": {
     "duration": 0.049592,
     "end_time": "2023-06-26T21:43:30.731288",
     "exception": false,
     "start_time": "2023-06-26T21:43:30.681696",
     "status": "completed"
    },
    "tags": []
   },
   "outputs": [],
   "source": [
    "test_data_scaled = scaler.transform(test_data[important_features])\n",
    "test_preds = model.predict_proba(test_data_scaled)\n",
    "submission = pd.DataFrame(test_ids, columns=['Id'])\n",
    "submission[['class_0', 'class_1']] = test_preds\n",
    "submission.to_csv('submission.csv', index=False)"
   ]
  },
  {
   "cell_type": "code",
   "execution_count": null,
   "id": "cb77de42",
   "metadata": {
    "papermill": {
     "duration": 0.005046,
     "end_time": "2023-06-26T21:43:30.741736",
     "exception": false,
     "start_time": "2023-06-26T21:43:30.736690",
     "status": "completed"
    },
    "tags": []
   },
   "outputs": [],
   "source": []
  }
 ],
 "metadata": {
  "kernelspec": {
   "display_name": "Python 3",
   "language": "python",
   "name": "python3"
  },
  "language_info": {
   "codemirror_mode": {
    "name": "ipython",
    "version": 3
   },
   "file_extension": ".py",
   "mimetype": "text/x-python",
   "name": "python",
   "nbconvert_exporter": "python",
   "pygments_lexer": "ipython3",
   "version": "3.10.10"
  },
  "papermill": {
   "default_parameters": {},
   "duration": 38.739178,
   "end_time": "2023-06-26T21:43:31.769446",
   "environment_variables": {},
   "exception": null,
   "input_path": "__notebook__.ipynb",
   "output_path": "__notebook__.ipynb",
   "parameters": {},
   "start_time": "2023-06-26T21:42:53.030268",
   "version": "2.4.0"
  }
 },
 "nbformat": 4,
 "nbformat_minor": 5
}
